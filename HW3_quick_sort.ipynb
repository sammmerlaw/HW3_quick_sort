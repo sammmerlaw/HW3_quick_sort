{
  "nbformat": 4,
  "nbformat_minor": 0,
  "metadata": {
    "colab": {
      "provenance": [],
      "authorship_tag": "ABX9TyOqoWeSgH/ufeM9NiZBno2B",
      "include_colab_link": true
    },
    "kernelspec": {
      "name": "python3",
      "display_name": "Python 3"
    },
    "language_info": {
      "name": "python"
    }
  },
  "cells": [
    {
      "cell_type": "markdown",
      "metadata": {
        "id": "view-in-github",
        "colab_type": "text"
      },
      "source": [
        "<a href=\"https://colab.research.google.com/github/sammmerlaw/HW3_quick_sort/blob/main/HW3_quick_sort.ipynb\" target=\"_parent\"><img src=\"https://colab.research.google.com/assets/colab-badge.svg\" alt=\"Open In Colab\"/></a>"
      ]
    },
    {
      "cell_type": "code",
      "execution_count": 11,
      "metadata": {
        "colab": {
          "base_uri": "https://localhost:8080/"
        },
        "id": "nWkM6y1vtpUL",
        "outputId": "a6a47184-e1cb-45b6-b527-6c7fc5195f03"
      },
      "outputs": [
        {
          "output_type": "stream",
          "name": "stdout",
          "text": [
            "[3, 8, 13, 25, 33, 41, 54, 67, 84, 119]\n"
          ]
        }
      ],
      "source": [
        "number_list = [33, 67, 8, 13, 54, 119, 3, 84, 25, 41]\n",
        "z = len(number_list)\n",
        "\n",
        "# Swap Positions\n",
        "def swapPositions(list, pos1, pos2):\n",
        "    list[pos1], list[pos2] = list[pos2], list[pos1]\n",
        "    return list\n",
        "\n",
        "#Quick Sort\n",
        "def QuickSort(list, start, end):\n",
        "    if start >= end:\n",
        "        return\n",
        "    pivot = list[(start+end)//2] #設定pivot在list的中間\n",
        "    left = start\n",
        "    right = end\n",
        "    while left <= right:\n",
        "        while list[left] < pivot: #左標往右移\n",
        "            left += 1\n",
        "        while list[right] > pivot: #右標往左移\n",
        "            right -= 1\n",
        "        if left <= right:\n",
        "            swapPositions(list, left, right) #交換位置\n",
        "            left += 1\n",
        "            right -= 1\n",
        "    QuickSort(list, start, right) \n",
        "    QuickSort(list, left, end)\n",
        "\n",
        "QuickSort(number_list, 0, z-1)\n",
        "print(number_list)"
      ]
    }
  ]
}